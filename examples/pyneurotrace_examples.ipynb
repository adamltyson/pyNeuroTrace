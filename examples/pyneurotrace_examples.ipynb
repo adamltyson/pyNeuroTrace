{
 "cells": [
  {
   "cell_type": "markdown",
   "id": "90f1b877",
   "metadata": {},
   "source": [
    "# Data Processing and Visualization Notebook\n",
    "\n",
    "This notebook demonstrates how to load raw data, apply various filtering and event detection functions, and visualize the results using the provided functions from the `filters.py`, `events.py`, and `viz.py` modules.\n"
   ]
  },
  {
   "cell_type": "markdown",
   "id": "1c5a174d",
   "metadata": {},
   "source": [
    "## Step 1: Set Up the Environment\n",
    "\n",
    "Import necessary libraries and modules, and load the raw data from a numpy array file.\n"
   ]
  },
  {
   "cell_type": "code",
   "execution_count": null,
   "id": "735ec0ce",
   "metadata": {},
   "outputs": [],
   "source": [
    "import numpy as np\n",
    "import matplotlib.pyplot as plt\n",
    "import pyneurotrace.filters as pyntFilters\n",
    "import pyneurotrace.events as pyntEvents\n",
    "import pyneurotrace.viz as pyntViz"
   ]
  },
  {
   "cell_type": "code",
   "execution_count": null,
   "id": "70c831c7",
   "metadata": {},
   "outputs": [],
   "source": [
    "# Load calcium imaging data\n",
    "rawTimeSeries = np.load('rawCal590Traces.npy')\n",
    "\n",
    "# Define Import Global Parameters\n",
    "hz = 13.5\n",
    "\n",
    "# Display the shape of the loaded data\n",
    "print(f\"Raw data shape: {rawTimeSeries.shape}\")\n",
    "\n",
    "# Plot the intensity of the raw data\n",
    "_, _ = pyntViz.plotIntensity(rawTimeSeries, hz, title='Cal590 Raw Traces')\n",
    "plt.show()"
   ]
  },
  {
   "cell_type": "markdown",
   "id": "138c8f62",
   "metadata": {},
   "source": [
    "## Step 2: Apply Filtering Functions\n",
    "\n",
    "We will apply several filtering functions to the raw data. These include nndSmooth, okada, and deltaFOverF0 from the filters.py module. Here will will calculate deltaFOverF0 and smooth it with the okada filter"
   ]
  },
  {
   "cell_type": "code",
   "execution_count": null,
   "id": "fa6c207d",
   "metadata": {},
   "outputs": [],
   "source": [
    "# Parameters for filtering\n",
    "hz = 13.5  # Sampling rate\n",
    "\n",
    "# Apply Okada filter to reduce shot noise\n",
    "okadaTraces = pyntFilters.okada(rawTimeSeries)\n",
    "print(\"Applied okada filter\")\n",
    "\n",
    "# Apply deltaFOverF0\n",
    "dffTraces = pyntFilters.deltaFOverF0(okadaTraces, hz)\n",
    "print(\"Applied deltaFOverF0\")\n",
    "\n"
   ]
  },
  {
   "cell_type": "markdown",
   "id": "7d942523",
   "metadata": {},
   "source": [
    "## Step 3: Visualize the Results\n",
    "\n",
    "Finally, we will use visualization functions from the viz.py module to plot the results of our data processing to compare the three versions of the trace\n"
   ]
  },
  {
   "cell_type": "code",
   "execution_count": null,
   "id": "29fcef57",
   "metadata": {},
   "outputs": [],
   "source": [
    "# Plot the raw traces\n",
    "_, _ = pyntViz.plotLine(rawTimeSeries, hz, title=\"Raw Data Intensity\")\n",
    "plt.show()\n",
    "\n",
    "# Plot the smoothed traces\n",
    "_, _ = pyntViz.plotLine(okadaTraces, hz, title=\"Smoothed Traces\")\n",
    "plt.show()\n",
    "\n",
    "# Plot the delta F over F0 data\n",
    "_, _ = pyntViz.plotLine(dffTraces, hz, title=\"Delta F/F\")\n",
    "plt.show()\n",
    "\n"
   ]
  },
  {
   "cell_type": "markdown",
   "id": "35e4a7c5",
   "metadata": {},
   "source": [
    "## Step 4: Detect Events\n",
    "\n",
    "Next, we will use event detection functions from the events.py module. These include ewma, cusum, matchedFilter, and thresholdEvents."
   ]
  },
  {
   "cell_type": "code",
   "execution_count": null,
   "id": "2a91cfb2",
   "metadata": {},
   "outputs": [],
   "source": [
    "\n",
    "# Parameters for event detection\n",
    "threshold = 0.4 # Threshold for event detection\n",
    "min_below_before = 1 # Minimum below threshold before an event\n",
    "\n",
    "# Apply Threshold Events\n",
    "threshold_events_data = pyntEvents.thresholdEvents(dffTraces, threshold, min_below_before)\n",
    "print(\"Applied Threshold Events\")\n",
    "\n",
    "# Plot Detected events\n",
    "_, _ = pyntViz.plotIntensity(threshold_events_data, hz, title='Detected Events')\n",
    "plt.show()\n"
   ]
  },
  {
   "cell_type": "code",
   "execution_count": null,
   "id": "164ba6e1",
   "metadata": {},
   "outputs": [],
   "source": []
  }
 ],
 "metadata": {
  "kernelspec": {
   "display_name": "Python 3 (ipykernel)",
   "language": "python",
   "name": "python3"
  },
  "language_info": {
   "codemirror_mode": {
    "name": "ipython",
    "version": 3
   },
   "file_extension": ".py",
   "mimetype": "text/x-python",
   "name": "python",
   "nbconvert_exporter": "python",
   "pygments_lexer": "ipython3",
   "version": "3.10.12"
  }
 },
 "nbformat": 4,
 "nbformat_minor": 5
}
